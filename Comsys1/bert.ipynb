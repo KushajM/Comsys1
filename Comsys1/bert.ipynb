{
  "metadata": {
    "kernelspec": {
      "language": "python",
      "display_name": "Python 3",
      "name": "python3"
    },
    "language_info": {
      "name": "python",
      "version": "3.10.12",
      "mimetype": "text/x-python",
      "codemirror_mode": {
        "name": "ipython",
        "version": 3
      },
      "pygments_lexer": "ipython3",
      "nbconvert_exporter": "python",
      "file_extension": ".py"
    },
    "colab": {
      "provenance": []
    }
  },
  "nbformat_minor": 0,
  "nbformat": 4,
  "cells": [
    {
      "cell_type": "code",
      "source": [
        "import tensorflow as tf\n",
        "from transformers import TFAutoModel, AutoTokenizer\n",
        "from datasets import load_dataset\n",
        "import pandas as pd\n",
        "import numpy as np\n",
        "import tensorflow_hub as hub\n",
        "import tensorflow_text as text\n",
        "from datasets import Dataset\n",
        "import datasets"
      ],
      "metadata": {
        "execution": {
          "iopub.status.busy": "2023-09-26T17:06:15.010444Z",
          "iopub.execute_input": "2023-09-26T17:06:15.010815Z",
          "iopub.status.idle": "2023-09-26T17:06:15.016892Z",
          "shell.execute_reply.started": "2023-09-26T17:06:15.010783Z",
          "shell.execute_reply": "2023-09-26T17:06:15.015952Z"
        },
        "trusted": true,
        "id": "fueOfTYNX2eh"
      },
      "execution_count": null,
      "outputs": []
    },
    {
      "cell_type": "markdown",
      "source": [
        "**Here we've used a fine-tuned BERT model with the variation being BERT Base Uncased.**"
      ],
      "metadata": {
        "id": "cZPG3g6IX2ei"
      }
    },
    {
      "cell_type": "markdown",
      "source": [],
      "metadata": {
        "id": "ufbs2N0WX2ej"
      }
    },
    {
      "cell_type": "code",
      "source": [
        "model = TFAutoModel.from_pretrained(\"bert-base-uncased\")"
      ],
      "metadata": {
        "execution": {
          "iopub.status.busy": "2023-09-26T17:06:15.021321Z",
          "iopub.execute_input": "2023-09-26T17:06:15.021898Z",
          "iopub.status.idle": "2023-09-26T17:06:16.661266Z",
          "shell.execute_reply.started": "2023-09-26T17:06:15.021858Z",
          "shell.execute_reply": "2023-09-26T17:06:16.660404Z"
        },
        "trusted": true,
        "id": "MtnHChtcX2ej",
        "outputId": "7ae94521-cf56-4b2a-a481-479df14ae0b8"
      },
      "execution_count": null,
      "outputs": [
        {
          "name": "stderr",
          "text": "Some weights of the PyTorch model were not used when initializing the TF 2.0 model TFBertModel: ['cls.seq_relationship.bias', 'cls.predictions.transform.dense.bias', 'cls.predictions.bias', 'cls.predictions.transform.LayerNorm.weight', 'cls.predictions.transform.dense.weight', 'cls.predictions.transform.LayerNorm.bias', 'cls.seq_relationship.weight']\n- This IS expected if you are initializing TFBertModel from a PyTorch model trained on another task or with another architecture (e.g. initializing a TFBertForSequenceClassification model from a BertForPreTraining model).\n- This IS NOT expected if you are initializing TFBertModel from a PyTorch model that you expect to be exactly identical (e.g. initializing a TFBertForSequenceClassification model from a BertForSequenceClassification model).\nAll the weights of TFBertModel were initialized from the PyTorch model.\nIf your task is similar to the task the model of the checkpoint was trained on, you can already use TFBertModel for predictions without further training.\n",
          "output_type": "stream"
        }
      ]
    },
    {
      "cell_type": "code",
      "source": [
        "tokenizer = AutoTokenizer.from_pretrained(\"bert-base-uncased\")"
      ],
      "metadata": {
        "execution": {
          "iopub.status.busy": "2023-09-26T17:06:16.663486Z",
          "iopub.execute_input": "2023-09-26T17:06:16.663836Z",
          "iopub.status.idle": "2023-09-26T17:06:16.774060Z",
          "shell.execute_reply.started": "2023-09-26T17:06:16.663801Z",
          "shell.execute_reply": "2023-09-26T17:06:16.773214Z"
        },
        "trusted": true,
        "id": "xOdBNgEiX2ek"
      },
      "execution_count": null,
      "outputs": []
    },
    {
      "cell_type": "markdown",
      "source": [],
      "metadata": {
        "id": "CWpPrSvzX2ek"
      }
    },
    {
      "cell_type": "code",
      "source": [
        "#Taking the train.csv dataset as input\n",
        "url='https://drive.google.com/file/d/1kCoxEbEu17iywZeIh_Hf2jYUPhFY-uKq/view?usp=drive_link'\n",
        "file_id=url.split('/')[-2]\n",
        "dwn_url='https://drive.google.com/uc?id=' + file_id\n",
        "df = pd.read_csv(dwn_url)\n",
        "print(df.head())"
      ],
      "metadata": {
        "execution": {
          "iopub.status.busy": "2023-09-26T17:06:16.775592Z",
          "iopub.execute_input": "2023-09-26T17:06:16.775988Z",
          "iopub.status.idle": "2023-09-26T17:06:17.473405Z",
          "shell.execute_reply.started": "2023-09-26T17:06:16.775952Z",
          "shell.execute_reply": "2023-09-26T17:06:17.472429Z"
        },
        "trusted": true,
        "id": "n1k5MyoNX2el",
        "outputId": "1e65a784-f899-4e7f-a68b-49190d5023e9"
      },
      "execution_count": null,
      "outputs": [
        {
          "name": "stdout",
          "text": "   Unnamed: 0                                               Text  \\\n0           0  I can't shake off this constant sense of hopel...   \n1           1  I'm constantly second-guessing myself and my d...   \n2           2  I'm feeling physically unwell, but I know it's...   \n3           3     I'm desperate to escape the overwhelming fear.   \n4           4  It's hard to describe the sensation of being t...   \n\n              label  \n0        Depression  \n1  Anxiety Disorder  \n2        Depression  \n3    Panic Disorder  \n4    Panic Disorder  \n",
          "output_type": "stream"
        }
      ]
    },
    {
      "cell_type": "code",
      "source": [
        "#Taking the test.csv dataset as input for prediction\n",
        "url='https://drive.google.com/file/d/1FYt6EL4-3HrtLeS6BNsakpdJFQq7uzSw/view?usp=drive_link'\n",
        "file_id=url.split('/')[-2]\n",
        "dwn_url='https://drive.google.com/uc?id=' + file_id\n",
        "df2= pd.read_csv(dwn_url)\n",
        "print(df2.head())"
      ],
      "metadata": {
        "execution": {
          "iopub.status.busy": "2023-09-26T17:06:17.476110Z",
          "iopub.execute_input": "2023-09-26T17:06:17.477179Z",
          "iopub.status.idle": "2023-09-26T17:06:18.557662Z",
          "shell.execute_reply.started": "2023-09-26T17:06:17.477132Z",
          "shell.execute_reply": "2023-09-26T17:06:18.556712Z"
        },
        "trusted": true,
        "id": "Xl2mjEARX2el",
        "outputId": "c8d3783c-ee9e-46b8-ff1e-3f72371bfc2a"
      },
      "execution_count": null,
      "outputs": [
        {
          "name": "stdout",
          "text": "   id                                               Text\n0   0  I'm worried about the impact of panic on my re...\n1   1  Trying to maintain my equilibrium when emotion...\n2   2  Feeling like I'm in a constant struggle to fin...\n3   3  I'm quick to dismiss others' opinions as less ...\n4   4  I hate the person I become when I'm consumed b...\n",
          "output_type": "stream"
        }
      ]
    },
    {
      "cell_type": "code",
      "source": [
        "df.groupby('label').describe()"
      ],
      "metadata": {
        "execution": {
          "iopub.status.busy": "2023-09-26T17:06:18.559108Z",
          "iopub.execute_input": "2023-09-26T17:06:18.559823Z",
          "iopub.status.idle": "2023-09-26T17:06:18.596431Z",
          "shell.execute_reply.started": "2023-09-26T17:06:18.559790Z",
          "shell.execute_reply": "2023-09-26T17:06:18.595271Z"
        },
        "trusted": true,
        "id": "_0-2S1pqX2el",
        "outputId": "6bd0fd74-f9a5-46cb-9a6e-89b8fbcc1b78"
      },
      "execution_count": null,
      "outputs": [
        {
          "execution_count": 54,
          "output_type": "execute_result",
          "data": {
            "text/plain": "                                       Unnamed: 0                          \\\n                                            count        mean         std   \nlabel                                                                       \nAnger/ Intermittent Explosive Disorder      154.0  390.811688  224.107898   \nAnxiety Disorder                            153.0  412.784314  231.870822   \nDepression                                  208.0  374.865385  225.870386   \nNarcissistic Disorder                       158.0  401.379747  220.702197   \nPanic Disorder                              112.0  383.830357  234.388331   \n\n                                                                            \n                                         min     25%    50%     75%    max  \nlabel                                                                       \nAnger/ Intermittent Explosive Disorder   9.0  199.75  371.5  588.00  777.0  \nAnxiety Disorder                         1.0  212.00  443.0  622.00  779.0  \nDepression                               0.0  187.75  351.0  573.50  780.0  \nNarcissistic Disorder                   15.0  206.25  417.0  580.75  783.0  \nPanic Disorder                           3.0  176.75  399.0  558.75  784.0  ",
            "text/html": "<div>\n<style scoped>\n    .dataframe tbody tr th:only-of-type {\n        vertical-align: middle;\n    }\n\n    .dataframe tbody tr th {\n        vertical-align: top;\n    }\n\n    .dataframe thead tr th {\n        text-align: left;\n    }\n\n    .dataframe thead tr:last-of-type th {\n        text-align: right;\n    }\n</style>\n<table border=\"1\" class=\"dataframe\">\n  <thead>\n    <tr>\n      <th></th>\n      <th colspan=\"8\" halign=\"left\">Unnamed: 0</th>\n    </tr>\n    <tr>\n      <th></th>\n      <th>count</th>\n      <th>mean</th>\n      <th>std</th>\n      <th>min</th>\n      <th>25%</th>\n      <th>50%</th>\n      <th>75%</th>\n      <th>max</th>\n    </tr>\n    <tr>\n      <th>label</th>\n      <th></th>\n      <th></th>\n      <th></th>\n      <th></th>\n      <th></th>\n      <th></th>\n      <th></th>\n      <th></th>\n    </tr>\n  </thead>\n  <tbody>\n    <tr>\n      <th>Anger/ Intermittent Explosive Disorder</th>\n      <td>154.0</td>\n      <td>390.811688</td>\n      <td>224.107898</td>\n      <td>9.0</td>\n      <td>199.75</td>\n      <td>371.5</td>\n      <td>588.00</td>\n      <td>777.0</td>\n    </tr>\n    <tr>\n      <th>Anxiety Disorder</th>\n      <td>153.0</td>\n      <td>412.784314</td>\n      <td>231.870822</td>\n      <td>1.0</td>\n      <td>212.00</td>\n      <td>443.0</td>\n      <td>622.00</td>\n      <td>779.0</td>\n    </tr>\n    <tr>\n      <th>Depression</th>\n      <td>208.0</td>\n      <td>374.865385</td>\n      <td>225.870386</td>\n      <td>0.0</td>\n      <td>187.75</td>\n      <td>351.0</td>\n      <td>573.50</td>\n      <td>780.0</td>\n    </tr>\n    <tr>\n      <th>Narcissistic Disorder</th>\n      <td>158.0</td>\n      <td>401.379747</td>\n      <td>220.702197</td>\n      <td>15.0</td>\n      <td>206.25</td>\n      <td>417.0</td>\n      <td>580.75</td>\n      <td>783.0</td>\n    </tr>\n    <tr>\n      <th>Panic Disorder</th>\n      <td>112.0</td>\n      <td>383.830357</td>\n      <td>234.388331</td>\n      <td>3.0</td>\n      <td>176.75</td>\n      <td>399.0</td>\n      <td>558.75</td>\n      <td>784.0</td>\n    </tr>\n  </tbody>\n</table>\n</div>"
          },
          "metadata": {}
        }
      ]
    },
    {
      "cell_type": "code",
      "source": [
        "#doing labelEncoder() work manually by replacing every known \"label\" value with an integer\n",
        "df['unique_id']=df['label'].apply(lambda x: 1 if x==\"Anger/ Intermittent Explosive Disorder\" else 2 if x==\"Anxiety Disorder\" else 3 if x==\"Depression\" else 4 if x == \"Narcissistic Disorder\" else 5)"
      ],
      "metadata": {
        "execution": {
          "iopub.status.busy": "2023-09-26T17:06:18.597886Z",
          "iopub.execute_input": "2023-09-26T17:06:18.598203Z",
          "iopub.status.idle": "2023-09-26T17:06:18.604586Z",
          "shell.execute_reply.started": "2023-09-26T17:06:18.598171Z",
          "shell.execute_reply": "2023-09-26T17:06:18.603671Z"
        },
        "trusted": true,
        "id": "17ewTf5DX2el"
      },
      "execution_count": null,
      "outputs": []
    },
    {
      "cell_type": "code",
      "source": [
        "df.groupby('label').describe()"
      ],
      "metadata": {
        "execution": {
          "iopub.status.busy": "2023-09-26T17:06:18.606276Z",
          "iopub.execute_input": "2023-09-26T17:06:18.607052Z",
          "iopub.status.idle": "2023-09-26T17:06:18.667260Z",
          "shell.execute_reply.started": "2023-09-26T17:06:18.607018Z",
          "shell.execute_reply": "2023-09-26T17:06:18.666407Z"
        },
        "trusted": true,
        "id": "q3lHduRDX2em",
        "outputId": "48ce6767-ed56-4ea4-c6d1-90130f89ca04"
      },
      "execution_count": null,
      "outputs": [
        {
          "execution_count": 56,
          "output_type": "execute_result",
          "data": {
            "text/plain": "                                       Unnamed: 0                          \\\n                                            count        mean         std   \nlabel                                                                       \nAnger/ Intermittent Explosive Disorder      154.0  390.811688  224.107898   \nAnxiety Disorder                            153.0  412.784314  231.870822   \nDepression                                  208.0  374.865385  225.870386   \nNarcissistic Disorder                       158.0  401.379747  220.702197   \nPanic Disorder                              112.0  383.830357  234.388331   \n\n                                                                            \\\n                                         min     25%    50%     75%    max   \nlabel                                                                        \nAnger/ Intermittent Explosive Disorder   9.0  199.75  371.5  588.00  777.0   \nAnxiety Disorder                         1.0  212.00  443.0  622.00  779.0   \nDepression                               0.0  187.75  351.0  573.50  780.0   \nNarcissistic Disorder                   15.0  206.25  417.0  580.75  783.0   \nPanic Disorder                           3.0  176.75  399.0  558.75  784.0   \n\n                                       unique_id                           \\\n                                           count mean  std  min  25%  50%   \nlabel                                                                       \nAnger/ Intermittent Explosive Disorder     154.0  1.0  0.0  1.0  1.0  1.0   \nAnxiety Disorder                           153.0  2.0  0.0  2.0  2.0  2.0   \nDepression                                 208.0  3.0  0.0  3.0  3.0  3.0   \nNarcissistic Disorder                      158.0  4.0  0.0  4.0  4.0  4.0   \nPanic Disorder                             112.0  5.0  0.0  5.0  5.0  5.0   \n\n                                                  \n                                        75%  max  \nlabel                                             \nAnger/ Intermittent Explosive Disorder  1.0  1.0  \nAnxiety Disorder                        2.0  2.0  \nDepression                              3.0  3.0  \nNarcissistic Disorder                   4.0  4.0  \nPanic Disorder                          5.0  5.0  ",
            "text/html": "<div>\n<style scoped>\n    .dataframe tbody tr th:only-of-type {\n        vertical-align: middle;\n    }\n\n    .dataframe tbody tr th {\n        vertical-align: top;\n    }\n\n    .dataframe thead tr th {\n        text-align: left;\n    }\n\n    .dataframe thead tr:last-of-type th {\n        text-align: right;\n    }\n</style>\n<table border=\"1\" class=\"dataframe\">\n  <thead>\n    <tr>\n      <th></th>\n      <th colspan=\"8\" halign=\"left\">Unnamed: 0</th>\n      <th colspan=\"8\" halign=\"left\">unique_id</th>\n    </tr>\n    <tr>\n      <th></th>\n      <th>count</th>\n      <th>mean</th>\n      <th>std</th>\n      <th>min</th>\n      <th>25%</th>\n      <th>50%</th>\n      <th>75%</th>\n      <th>max</th>\n      <th>count</th>\n      <th>mean</th>\n      <th>std</th>\n      <th>min</th>\n      <th>25%</th>\n      <th>50%</th>\n      <th>75%</th>\n      <th>max</th>\n    </tr>\n    <tr>\n      <th>label</th>\n      <th></th>\n      <th></th>\n      <th></th>\n      <th></th>\n      <th></th>\n      <th></th>\n      <th></th>\n      <th></th>\n      <th></th>\n      <th></th>\n      <th></th>\n      <th></th>\n      <th></th>\n      <th></th>\n      <th></th>\n      <th></th>\n    </tr>\n  </thead>\n  <tbody>\n    <tr>\n      <th>Anger/ Intermittent Explosive Disorder</th>\n      <td>154.0</td>\n      <td>390.811688</td>\n      <td>224.107898</td>\n      <td>9.0</td>\n      <td>199.75</td>\n      <td>371.5</td>\n      <td>588.00</td>\n      <td>777.0</td>\n      <td>154.0</td>\n      <td>1.0</td>\n      <td>0.0</td>\n      <td>1.0</td>\n      <td>1.0</td>\n      <td>1.0</td>\n      <td>1.0</td>\n      <td>1.0</td>\n    </tr>\n    <tr>\n      <th>Anxiety Disorder</th>\n      <td>153.0</td>\n      <td>412.784314</td>\n      <td>231.870822</td>\n      <td>1.0</td>\n      <td>212.00</td>\n      <td>443.0</td>\n      <td>622.00</td>\n      <td>779.0</td>\n      <td>153.0</td>\n      <td>2.0</td>\n      <td>0.0</td>\n      <td>2.0</td>\n      <td>2.0</td>\n      <td>2.0</td>\n      <td>2.0</td>\n      <td>2.0</td>\n    </tr>\n    <tr>\n      <th>Depression</th>\n      <td>208.0</td>\n      <td>374.865385</td>\n      <td>225.870386</td>\n      <td>0.0</td>\n      <td>187.75</td>\n      <td>351.0</td>\n      <td>573.50</td>\n      <td>780.0</td>\n      <td>208.0</td>\n      <td>3.0</td>\n      <td>0.0</td>\n      <td>3.0</td>\n      <td>3.0</td>\n      <td>3.0</td>\n      <td>3.0</td>\n      <td>3.0</td>\n    </tr>\n    <tr>\n      <th>Narcissistic Disorder</th>\n      <td>158.0</td>\n      <td>401.379747</td>\n      <td>220.702197</td>\n      <td>15.0</td>\n      <td>206.25</td>\n      <td>417.0</td>\n      <td>580.75</td>\n      <td>783.0</td>\n      <td>158.0</td>\n      <td>4.0</td>\n      <td>0.0</td>\n      <td>4.0</td>\n      <td>4.0</td>\n      <td>4.0</td>\n      <td>4.0</td>\n      <td>4.0</td>\n    </tr>\n    <tr>\n      <th>Panic Disorder</th>\n      <td>112.0</td>\n      <td>383.830357</td>\n      <td>234.388331</td>\n      <td>3.0</td>\n      <td>176.75</td>\n      <td>399.0</td>\n      <td>558.75</td>\n      <td>784.0</td>\n      <td>112.0</td>\n      <td>5.0</td>\n      <td>0.0</td>\n      <td>5.0</td>\n      <td>5.0</td>\n      <td>5.0</td>\n      <td>5.0</td>\n      <td>5.0</td>\n    </tr>\n  </tbody>\n</table>\n</div>"
          },
          "metadata": {}
        }
      ]
    },
    {
      "cell_type": "code",
      "source": [
        "train_df = df[:680].drop(\"label\",axis=1)\n",
        "test_df = df[680:].drop(\"label\",axis=1)\n",
        "\n",
        "train_df"
      ],
      "metadata": {
        "execution": {
          "iopub.status.busy": "2023-09-26T17:06:18.668587Z",
          "iopub.execute_input": "2023-09-26T17:06:18.668888Z",
          "iopub.status.idle": "2023-09-26T17:06:18.686741Z",
          "shell.execute_reply.started": "2023-09-26T17:06:18.668858Z",
          "shell.execute_reply": "2023-09-26T17:06:18.685848Z"
        },
        "trusted": true,
        "id": "saqdNXrLX2em",
        "outputId": "b4ce024c-ea19-4ffe-dccb-40bd0c51e044"
      },
      "execution_count": null,
      "outputs": [
        {
          "execution_count": 57,
          "output_type": "execute_result",
          "data": {
            "text/plain": "     Unnamed: 0                                               Text  unique_id\n0             0  I can't shake off this constant sense of hopel...          3\n1             1  I'm constantly second-guessing myself and my d...          2\n2             2  I'm feeling physically unwell, but I know it's...          3\n3             3     I'm desperate to escape the overwhelming fear.          5\n4             4  It's hard to describe the sensation of being t...          5\n..          ...                                                ...        ...\n675         675  I can't seem to quiet the constant 'what if' t...          2\n676         676                            I feel so empty inside.          3\n677         677  It's like I'm trying to navigate through a maz...          1\n678         678  Trying to find a way to quiet the inner critic...          2\n679         679  I'm constantly checking my body for signs of p...          5\n\n[680 rows x 3 columns]",
            "text/html": "<div>\n<style scoped>\n    .dataframe tbody tr th:only-of-type {\n        vertical-align: middle;\n    }\n\n    .dataframe tbody tr th {\n        vertical-align: top;\n    }\n\n    .dataframe thead th {\n        text-align: right;\n    }\n</style>\n<table border=\"1\" class=\"dataframe\">\n  <thead>\n    <tr style=\"text-align: right;\">\n      <th></th>\n      <th>Unnamed: 0</th>\n      <th>Text</th>\n      <th>unique_id</th>\n    </tr>\n  </thead>\n  <tbody>\n    <tr>\n      <th>0</th>\n      <td>0</td>\n      <td>I can't shake off this constant sense of hopel...</td>\n      <td>3</td>\n    </tr>\n    <tr>\n      <th>1</th>\n      <td>1</td>\n      <td>I'm constantly second-guessing myself and my d...</td>\n      <td>2</td>\n    </tr>\n    <tr>\n      <th>2</th>\n      <td>2</td>\n      <td>I'm feeling physically unwell, but I know it's...</td>\n      <td>3</td>\n    </tr>\n    <tr>\n      <th>3</th>\n      <td>3</td>\n      <td>I'm desperate to escape the overwhelming fear.</td>\n      <td>5</td>\n    </tr>\n    <tr>\n      <th>4</th>\n      <td>4</td>\n      <td>It's hard to describe the sensation of being t...</td>\n      <td>5</td>\n    </tr>\n    <tr>\n      <th>...</th>\n      <td>...</td>\n      <td>...</td>\n      <td>...</td>\n    </tr>\n    <tr>\n      <th>675</th>\n      <td>675</td>\n      <td>I can't seem to quiet the constant 'what if' t...</td>\n      <td>2</td>\n    </tr>\n    <tr>\n      <th>676</th>\n      <td>676</td>\n      <td>I feel so empty inside.</td>\n      <td>3</td>\n    </tr>\n    <tr>\n      <th>677</th>\n      <td>677</td>\n      <td>It's like I'm trying to navigate through a maz...</td>\n      <td>1</td>\n    </tr>\n    <tr>\n      <th>678</th>\n      <td>678</td>\n      <td>Trying to find a way to quiet the inner critic...</td>\n      <td>2</td>\n    </tr>\n    <tr>\n      <th>679</th>\n      <td>679</td>\n      <td>I'm constantly checking my body for signs of p...</td>\n      <td>5</td>\n    </tr>\n  </tbody>\n</table>\n<p>680 rows × 3 columns</p>\n</div>"
          },
          "metadata": {}
        }
      ]
    },
    {
      "cell_type": "code",
      "source": [
        "train_ds = Dataset.from_dict(train_df)\n",
        "test_ds = Dataset.from_dict(test_df)\n",
        "\n",
        "train_ds"
      ],
      "metadata": {
        "execution": {
          "iopub.status.busy": "2023-09-26T17:06:18.689945Z",
          "iopub.execute_input": "2023-09-26T17:06:18.690249Z",
          "iopub.status.idle": "2023-09-26T17:06:18.704093Z",
          "shell.execute_reply.started": "2023-09-26T17:06:18.690225Z",
          "shell.execute_reply": "2023-09-26T17:06:18.703241Z"
        },
        "trusted": true,
        "id": "gcdnD8hYX2em",
        "outputId": "13fccdab-ab26-47c1-aec6-aaba0267cdc7"
      },
      "execution_count": null,
      "outputs": [
        {
          "execution_count": 58,
          "output_type": "execute_result",
          "data": {
            "text/plain": "Dataset({\n    features: ['Unnamed: 0', 'Text', 'unique_id'],\n    num_rows: 680\n})"
          },
          "metadata": {}
        }
      ]
    },
    {
      "cell_type": "code",
      "source": [
        "dict_ds = datasets.DatasetDict({\"train\":train_ds,\"test\":test_ds})"
      ],
      "metadata": {
        "execution": {
          "iopub.status.busy": "2023-09-26T17:06:18.709159Z",
          "iopub.execute_input": "2023-09-26T17:06:18.709451Z",
          "iopub.status.idle": "2023-09-26T17:06:18.714447Z",
          "shell.execute_reply.started": "2023-09-26T17:06:18.709427Z",
          "shell.execute_reply": "2023-09-26T17:06:18.713414Z"
        },
        "trusted": true,
        "id": "0DG06fmbX2em"
      },
      "execution_count": null,
      "outputs": []
    },
    {
      "cell_type": "code",
      "source": [
        "dict_ds"
      ],
      "metadata": {
        "execution": {
          "iopub.status.busy": "2023-09-26T17:06:18.716059Z",
          "iopub.execute_input": "2023-09-26T17:06:18.717015Z",
          "iopub.status.idle": "2023-09-26T17:06:18.726840Z",
          "shell.execute_reply.started": "2023-09-26T17:06:18.716984Z",
          "shell.execute_reply": "2023-09-26T17:06:18.725803Z"
        },
        "trusted": true,
        "id": "5igBjoF_X2em",
        "outputId": "ba6c47e8-00a6-4cdb-ce60-05dacbd0f609"
      },
      "execution_count": null,
      "outputs": [
        {
          "execution_count": 60,
          "output_type": "execute_result",
          "data": {
            "text/plain": "DatasetDict({\n    train: Dataset({\n        features: ['Unnamed: 0', 'Text', 'unique_id'],\n        num_rows: 680\n    })\n    test: Dataset({\n        features: ['Unnamed: 0', 'Text', 'unique_id'],\n        num_rows: 105\n    })\n})"
          },
          "metadata": {}
        }
      ]
    },
    {
      "cell_type": "code",
      "source": [
        "def tokenize(batch):\n",
        "    return tokenizer(batch[\"Text\"], padding=True, truncation=True)"
      ],
      "metadata": {
        "execution": {
          "iopub.status.busy": "2023-09-26T17:06:18.728516Z",
          "iopub.execute_input": "2023-09-26T17:06:18.728907Z",
          "iopub.status.idle": "2023-09-26T17:06:18.736819Z",
          "shell.execute_reply.started": "2023-09-26T17:06:18.728876Z",
          "shell.execute_reply": "2023-09-26T17:06:18.735573Z"
        },
        "trusted": true,
        "id": "Xd8fsrFDX2en"
      },
      "execution_count": null,
      "outputs": []
    },
    {
      "cell_type": "code",
      "source": [
        "dict_ds_encoded = dict_ds.map(tokenize, batched=True, batch_size=None)"
      ],
      "metadata": {
        "execution": {
          "iopub.status.busy": "2023-09-26T17:06:18.738246Z",
          "iopub.execute_input": "2023-09-26T17:06:18.738649Z",
          "iopub.status.idle": "2023-09-26T17:06:18.867697Z",
          "shell.execute_reply.started": "2023-09-26T17:06:18.738618Z",
          "shell.execute_reply": "2023-09-26T17:06:18.866777Z"
        },
        "trusted": true,
        "id": "1oR_P9qRX2en",
        "outputId": "622c0af0-0e38-4c12-e870-f31660bbbfc3",
        "colab": {
          "referenced_widgets": [
            "92861a86c0c24330a15f7ed1198c83f6",
            "591e69d012984cce8d1c7b833994145c"
          ]
        }
      },
      "execution_count": null,
      "outputs": [
        {
          "output_type": "display_data",
          "data": {
            "text/plain": "  0%|          | 0/1 [00:00<?, ?ba/s]",
            "application/vnd.jupyter.widget-view+json": {
              "version_major": 2,
              "version_minor": 0,
              "model_id": "92861a86c0c24330a15f7ed1198c83f6"
            }
          },
          "metadata": {}
        },
        {
          "output_type": "display_data",
          "data": {
            "text/plain": "  0%|          | 0/1 [00:00<?, ?ba/s]",
            "application/vnd.jupyter.widget-view+json": {
              "version_major": 2,
              "version_minor": 0,
              "model_id": "591e69d012984cce8d1c7b833994145c"
            }
          },
          "metadata": {}
        }
      ]
    },
    {
      "cell_type": "code",
      "source": [
        "dict_ds_encoded"
      ],
      "metadata": {
        "execution": {
          "iopub.status.busy": "2023-09-26T17:06:18.869039Z",
          "iopub.execute_input": "2023-09-26T17:06:18.869979Z",
          "iopub.status.idle": "2023-09-26T17:06:18.876197Z",
          "shell.execute_reply.started": "2023-09-26T17:06:18.869946Z",
          "shell.execute_reply": "2023-09-26T17:06:18.875115Z"
        },
        "trusted": true,
        "id": "MgIZ--9bX2en",
        "outputId": "062391d2-9eb5-44ac-f84a-1b5674f5f781"
      },
      "execution_count": null,
      "outputs": [
        {
          "execution_count": 63,
          "output_type": "execute_result",
          "data": {
            "text/plain": "DatasetDict({\n    train: Dataset({\n        features: ['Unnamed: 0', 'Text', 'unique_id', 'input_ids', 'token_type_ids', 'attention_mask'],\n        num_rows: 680\n    })\n    test: Dataset({\n        features: ['Unnamed: 0', 'Text', 'unique_id', 'input_ids', 'token_type_ids', 'attention_mask'],\n        num_rows: 105\n    })\n})"
          },
          "metadata": {}
        }
      ]
    },
    {
      "cell_type": "code",
      "source": [
        "dict_ds_encoded.set_format('tf',\n",
        "                            columns=['input_ids', 'attention_mask', 'token_type_ids', 'unique_id'])\n",
        "\n",
        "dict_ds_encoded"
      ],
      "metadata": {
        "execution": {
          "iopub.status.busy": "2023-09-26T17:06:18.877660Z",
          "iopub.execute_input": "2023-09-26T17:06:18.878414Z",
          "iopub.status.idle": "2023-09-26T17:06:18.889423Z",
          "shell.execute_reply.started": "2023-09-26T17:06:18.878339Z",
          "shell.execute_reply": "2023-09-26T17:06:18.888420Z"
        },
        "trusted": true,
        "id": "OoWGfwz_X2en",
        "outputId": "80428f96-0268-4ec9-8e42-449eec94f1f1"
      },
      "execution_count": null,
      "outputs": [
        {
          "execution_count": 64,
          "output_type": "execute_result",
          "data": {
            "text/plain": "DatasetDict({\n    train: Dataset({\n        features: ['Unnamed: 0', 'Text', 'unique_id', 'input_ids', 'token_type_ids', 'attention_mask'],\n        num_rows: 680\n    })\n    test: Dataset({\n        features: ['Unnamed: 0', 'Text', 'unique_id', 'input_ids', 'token_type_ids', 'attention_mask'],\n        num_rows: 105\n    })\n})"
          },
          "metadata": {}
        }
      ]
    },
    {
      "cell_type": "code",
      "source": [
        "BATCH_SIZE = 16\n",
        "#This function adds the input_ids, attention_mask and token_type_ids to the encoded datasetdict that is sent to the bert classifier\n",
        "def order(inp):\n",
        "    data = list(inp.values())\n",
        "    print(data)\n",
        "    return {\n",
        "        'input_ids': data[1],\n",
        "        'attention_mask': data[2],\n",
        "        'token_type_ids': data[3]\n",
        "    }, data[0]"
      ],
      "metadata": {
        "execution": {
          "iopub.status.busy": "2023-09-26T17:06:18.891066Z",
          "iopub.execute_input": "2023-09-26T17:06:18.891547Z",
          "iopub.status.idle": "2023-09-26T17:06:18.897919Z",
          "shell.execute_reply.started": "2023-09-26T17:06:18.891397Z",
          "shell.execute_reply": "2023-09-26T17:06:18.896828Z"
        },
        "trusted": true,
        "id": "0JAZxzEiX2en"
      },
      "execution_count": null,
      "outputs": []
    },
    {
      "cell_type": "code",
      "source": [
        "# converting train split and test split of `dict_ds_encoded` to tensorflow format\n",
        "train_dataset = tf.data.Dataset.from_tensor_slices(dict_ds_encoded['train'][:])\n",
        "train_dataset = train_dataset.batch(BATCH_SIZE).shuffle(1000)\n",
        "train_dataset = train_dataset.map(order, num_parallel_calls=tf.data.AUTOTUNE)\n",
        "\n",
        "test_dataset = tf.data.Dataset.from_tensor_slices(dict_ds_encoded['test'][:])\n",
        "test_dataset = test_dataset.batch(BATCH_SIZE)\n",
        "test_dataset = test_dataset.map(order, num_parallel_calls=tf.data.AUTOTUNE)"
      ],
      "metadata": {
        "execution": {
          "iopub.status.busy": "2023-09-26T17:06:18.899143Z",
          "iopub.execute_input": "2023-09-26T17:06:18.900187Z",
          "iopub.status.idle": "2023-09-26T17:06:18.953378Z",
          "shell.execute_reply.started": "2023-09-26T17:06:18.900154Z",
          "shell.execute_reply": "2023-09-26T17:06:18.952420Z"
        },
        "trusted": true,
        "id": "8Jd1V6tiX2en",
        "outputId": "2cd585b7-43d8-4b88-f346-5297a169055e"
      },
      "execution_count": null,
      "outputs": [
        {
          "name": "stdout",
          "text": "[<tf.Tensor 'args_3:0' shape=(None,) dtype=int64>, <tf.Tensor 'args_1:0' shape=(None, 27) dtype=int64>, <tf.Tensor 'args_2:0' shape=(None, 27) dtype=int64>, <tf.Tensor 'args_0:0' shape=(None, 27) dtype=int64>]\n[<tf.Tensor 'args_3:0' shape=(None,) dtype=int64>, <tf.Tensor 'args_1:0' shape=(None, 25) dtype=int64>, <tf.Tensor 'args_2:0' shape=(None, 25) dtype=int64>, <tf.Tensor 'args_0:0' shape=(None, 25) dtype=int64>]\n",
          "output_type": "stream"
        }
      ]
    },
    {
      "cell_type": "markdown",
      "source": [
        "**Here's the fine-tuned BERT Model with softmax activation**"
      ],
      "metadata": {
        "id": "sDv6pMoaX2eo"
      }
    },
    {
      "cell_type": "code",
      "source": [
        "class BERTForClassification(tf.keras.Model):\n",
        "\n",
        "    def __init__(self, bert_model, num_classes):\n",
        "        super().__init__()\n",
        "        self.bert = bert_model\n",
        "        self.fc = tf.keras.layers.Dense(num_classes, activation='softmax')\n",
        "\n",
        "    def call(self, inputs):\n",
        "        x = self.bert(inputs)[1]\n",
        "        return self.fc(x)"
      ],
      "metadata": {
        "execution": {
          "iopub.status.busy": "2023-09-26T17:06:18.954691Z",
          "iopub.execute_input": "2023-09-26T17:06:18.955078Z",
          "iopub.status.idle": "2023-09-26T17:06:18.961555Z",
          "shell.execute_reply.started": "2023-09-26T17:06:18.955048Z",
          "shell.execute_reply": "2023-09-26T17:06:18.960624Z"
        },
        "trusted": true,
        "id": "-8LfqHsuX2eo"
      },
      "execution_count": null,
      "outputs": []
    },
    {
      "cell_type": "code",
      "source": [
        "classifier = BERTForClassification(model, num_classes=6)\n",
        "\n",
        "classifier.compile(\n",
        "    optimizer=tf.keras.optimizers.Adam(learning_rate=1e-5),\n",
        "    loss=tf.keras.losses.SparseCategoricalCrossentropy(),\n",
        "    metrics=['accuracy']\n",
        ")"
      ],
      "metadata": {
        "execution": {
          "iopub.status.busy": "2023-09-26T17:06:18.962905Z",
          "iopub.execute_input": "2023-09-26T17:06:18.963859Z",
          "iopub.status.idle": "2023-09-26T17:06:18.983460Z",
          "shell.execute_reply.started": "2023-09-26T17:06:18.963829Z",
          "shell.execute_reply": "2023-09-26T17:06:18.982833Z"
        },
        "trusted": true,
        "id": "aP0F3_lAX2eo"
      },
      "execution_count": null,
      "outputs": []
    },
    {
      "cell_type": "code",
      "source": [
        "history = classifier.fit(\n",
        "    train_dataset,\n",
        "    epochs=20\n",
        ")"
      ],
      "metadata": {
        "execution": {
          "iopub.status.busy": "2023-09-26T17:06:18.984538Z",
          "iopub.execute_input": "2023-09-26T17:06:18.985446Z",
          "iopub.status.idle": "2023-09-26T17:08:28.138471Z",
          "shell.execute_reply.started": "2023-09-26T17:06:18.985414Z",
          "shell.execute_reply": "2023-09-26T17:08:28.137424Z"
        },
        "trusted": true,
        "id": "kRUSMk4gX2eo",
        "outputId": "91ddd2f0-5915-40b3-eb35-1b4c94730bbb"
      },
      "execution_count": null,
      "outputs": [
        {
          "name": "stdout",
          "text": "Epoch 1/20\n43/43 [==============================] - 52s 148ms/step - loss: 1.5982 - accuracy: 0.3838\nEpoch 2/20\n43/43 [==============================] - 4s 84ms/step - loss: 1.0426 - accuracy: 0.6618\nEpoch 3/20\n43/43 [==============================] - 4s 85ms/step - loss: 0.6894 - accuracy: 0.7721\nEpoch 4/20\n43/43 [==============================] - 4s 86ms/step - loss: 0.4921 - accuracy: 0.8426\nEpoch 5/20\n43/43 [==============================] - 4s 84ms/step - loss: 0.3688 - accuracy: 0.8838\nEpoch 6/20\n43/43 [==============================] - 4s 85ms/step - loss: 0.2755 - accuracy: 0.9132\nEpoch 7/20\n43/43 [==============================] - 4s 85ms/step - loss: 0.2270 - accuracy: 0.9191\nEpoch 8/20\n43/43 [==============================] - 4s 93ms/step - loss: 0.1834 - accuracy: 0.9353\nEpoch 9/20\n43/43 [==============================] - 4s 86ms/step - loss: 0.1402 - accuracy: 0.9471\nEpoch 10/20\n43/43 [==============================] - 4s 84ms/step - loss: 0.1367 - accuracy: 0.9426\nEpoch 11/20\n43/43 [==============================] - 4s 84ms/step - loss: 0.1233 - accuracy: 0.9544\nEpoch 12/20\n43/43 [==============================] - 4s 86ms/step - loss: 0.1226 - accuracy: 0.9485\nEpoch 13/20\n43/43 [==============================] - 4s 85ms/step - loss: 0.1042 - accuracy: 0.9618\nEpoch 14/20\n43/43 [==============================] - 4s 86ms/step - loss: 0.0872 - accuracy: 0.9588\nEpoch 15/20\n43/43 [==============================] - 4s 86ms/step - loss: 0.0944 - accuracy: 0.9588\nEpoch 16/20\n43/43 [==============================] - 4s 87ms/step - loss: 0.0910 - accuracy: 0.9529\nEpoch 17/20\n43/43 [==============================] - 4s 85ms/step - loss: 0.0817 - accuracy: 0.9574\nEpoch 18/20\n43/43 [==============================] - 4s 85ms/step - loss: 0.0849 - accuracy: 0.9574\nEpoch 19/20\n43/43 [==============================] - 4s 85ms/step - loss: 0.0788 - accuracy: 0.9559\nEpoch 20/20\n43/43 [==============================] - 4s 84ms/step - loss: 0.0807 - accuracy: 0.9559\n",
          "output_type": "stream"
        }
      ]
    },
    {
      "cell_type": "markdown",
      "source": [
        "**Predicting the label value on the test.csv dataset which was previously imported in \"df2\"**"
      ],
      "metadata": {
        "id": "-owjVbCoX2eo"
      }
    },
    {
      "cell_type": "code",
      "source": [
        "text=df2[:]\n",
        "text_ds = Dataset.from_dict(text)\n",
        "\n",
        "\n",
        "\n",
        "dict_ds_testing = datasets.DatasetDict({\"testing\":text_ds})\n",
        "\n",
        "\n",
        "\n",
        "dict_ds_encoded_testing = dict_ds_testing.map(tokenize, batched=True, batch_size=None)\n",
        "\n",
        "dict_ds_encoded_testing.set_format('tf',\n",
        "                            columns=['input_ids', 'attention_mask', 'token_type_ids'])\n",
        "dict_ds_encoded_testing\n",
        "\n"
      ],
      "metadata": {
        "execution": {
          "iopub.status.busy": "2023-09-26T17:08:28.140229Z",
          "iopub.execute_input": "2023-09-26T17:08:28.140625Z",
          "iopub.status.idle": "2023-09-26T17:08:28.206419Z",
          "shell.execute_reply.started": "2023-09-26T17:08:28.140592Z",
          "shell.execute_reply": "2023-09-26T17:08:28.205507Z"
        },
        "trusted": true,
        "id": "GlQlyWLFX2eo",
        "outputId": "9489e54a-a473-4f2c-a0b2-4e8ae8927c59",
        "colab": {
          "referenced_widgets": [
            "3ad4523a0fa44a7fb94b2a0dda1fbcd1"
          ]
        }
      },
      "execution_count": null,
      "outputs": [
        {
          "output_type": "display_data",
          "data": {
            "text/plain": "  0%|          | 0/1 [00:00<?, ?ba/s]",
            "application/vnd.jupyter.widget-view+json": {
              "version_major": 2,
              "version_minor": 0,
              "model_id": "3ad4523a0fa44a7fb94b2a0dda1fbcd1"
            }
          },
          "metadata": {}
        },
        {
          "execution_count": 70,
          "output_type": "execute_result",
          "data": {
            "text/plain": "DatasetDict({\n    testing: Dataset({\n        features: ['id', 'Text', 'input_ids', 'token_type_ids', 'attention_mask'],\n        num_rows: 243\n    })\n})"
          },
          "metadata": {}
        }
      ]
    },
    {
      "cell_type": "code",
      "source": [
        "def ordertesting(inp):\n",
        "    data = list(inp.values())\n",
        "\n",
        "    return {\n",
        "        'input_ids': data[0],\n",
        "        'attention_mask': data[1],\n",
        "        'token_type_ids': data[2]\n",
        "    }"
      ],
      "metadata": {
        "execution": {
          "iopub.status.busy": "2023-09-26T17:08:28.209235Z",
          "iopub.execute_input": "2023-09-26T17:08:28.209516Z",
          "iopub.status.idle": "2023-09-26T17:08:28.214726Z",
          "shell.execute_reply.started": "2023-09-26T17:08:28.209492Z",
          "shell.execute_reply": "2023-09-26T17:08:28.213602Z"
        },
        "trusted": true,
        "id": "TQxLhR-7X2eo"
      },
      "execution_count": null,
      "outputs": []
    },
    {
      "cell_type": "code",
      "source": [
        "BATCH_SIZE = 16\n",
        "test_dataset_testing = tf.data.Dataset.from_tensor_slices(dict_ds_encoded_testing['testing'][:])\n",
        "test_dataset_testing = test_dataset_testing.batch(BATCH_SIZE)\n",
        "test_dataset_testing = test_dataset_testing.map(ordertesting, num_parallel_calls=tf.data.AUTOTUNE)"
      ],
      "metadata": {
        "execution": {
          "iopub.status.busy": "2023-09-26T17:08:28.216335Z",
          "iopub.execute_input": "2023-09-26T17:08:28.216863Z",
          "iopub.status.idle": "2023-09-26T17:08:28.290688Z",
          "shell.execute_reply.started": "2023-09-26T17:08:28.216832Z",
          "shell.execute_reply": "2023-09-26T17:08:28.289783Z"
        },
        "trusted": true,
        "id": "snZpiRoYX2eo"
      },
      "execution_count": null,
      "outputs": []
    },
    {
      "cell_type": "code",
      "source": [
        "#Predicting values in a numpy array\n",
        "prediction_new = classifier.predict(test_dataset_testing)\n",
        "prediction_new"
      ],
      "metadata": {
        "execution": {
          "iopub.status.busy": "2023-09-26T17:08:28.292210Z",
          "iopub.execute_input": "2023-09-26T17:08:28.292551Z",
          "iopub.status.idle": "2023-09-26T17:08:31.842471Z",
          "shell.execute_reply.started": "2023-09-26T17:08:28.292519Z",
          "shell.execute_reply": "2023-09-26T17:08:31.841291Z"
        },
        "trusted": true,
        "id": "TJF_XVmUX2ep",
        "outputId": "9225a6c2-d26d-4dbc-e5a4-802771c21871"
      },
      "execution_count": null,
      "outputs": [
        {
          "name": "stdout",
          "text": "16/16 [==============================] - 3s 36ms/step\n",
          "output_type": "stream"
        },
        {
          "execution_count": 73,
          "output_type": "execute_result",
          "data": {
            "text/plain": "array([[8.4451766e-04, 9.0737629e-04, 9.0883002e-03, 2.6541532e-04,\n        3.9301387e-05, 9.8885506e-01],\n       [1.4618140e-04, 9.7485220e-01, 5.3463079e-04, 2.3784056e-02,\n        4.1219281e-04, 2.7075663e-04],\n       [1.8706643e-03, 4.9660392e-02, 1.6125973e-01, 7.7607173e-01,\n        9.3827387e-03, 1.7548255e-03],\n       ...,\n       [2.4516173e-04, 1.5665771e-04, 9.9671483e-01, 2.0177805e-04,\n        1.0047788e-03, 1.6768383e-03],\n       [7.2759838e-04, 3.1196917e-04, 9.7782576e-01, 9.7309344e-04,\n        3.3368140e-03, 1.6824765e-02],\n       [3.9002788e-04, 7.8406399e-01, 4.7192522e-04, 2.1401685e-01,\n        8.3901099e-04, 2.1817574e-04]], dtype=float32)"
          },
          "metadata": {}
        }
      ]
    },
    {
      "cell_type": "code",
      "source": [
        "#Converting numpy array to pandas dataframe\n",
        "dataframe=pd.DataFrame(prediction_new)\n",
        "dataframe.head(6)"
      ],
      "metadata": {
        "execution": {
          "iopub.status.busy": "2023-09-26T17:08:31.843840Z",
          "iopub.execute_input": "2023-09-26T17:08:31.844184Z",
          "iopub.status.idle": "2023-09-26T17:08:31.859876Z",
          "shell.execute_reply.started": "2023-09-26T17:08:31.844151Z",
          "shell.execute_reply": "2023-09-26T17:08:31.858695Z"
        },
        "trusted": true,
        "id": "DOzsQ06gX2ep",
        "outputId": "0556edae-8531-4da8-f466-898a73c021c7"
      },
      "execution_count": null,
      "outputs": [
        {
          "execution_count": 74,
          "output_type": "execute_result",
          "data": {
            "text/plain": "          0         1         2         3         4         5\n0  0.000845  0.000907  0.009088  0.000265  0.000039  0.988855\n1  0.000146  0.974852  0.000535  0.023784  0.000412  0.000271\n2  0.001871  0.049660  0.161260  0.776072  0.009383  0.001755\n3  0.000315  0.000456  0.002324  0.000559  0.996154  0.000190\n4  0.000173  0.998289  0.000085  0.001199  0.000091  0.000164\n5  0.000297  0.000451  0.000802  0.000782  0.997490  0.000178",
            "text/html": "<div>\n<style scoped>\n    .dataframe tbody tr th:only-of-type {\n        vertical-align: middle;\n    }\n\n    .dataframe tbody tr th {\n        vertical-align: top;\n    }\n\n    .dataframe thead th {\n        text-align: right;\n    }\n</style>\n<table border=\"1\" class=\"dataframe\">\n  <thead>\n    <tr style=\"text-align: right;\">\n      <th></th>\n      <th>0</th>\n      <th>1</th>\n      <th>2</th>\n      <th>3</th>\n      <th>4</th>\n      <th>5</th>\n    </tr>\n  </thead>\n  <tbody>\n    <tr>\n      <th>0</th>\n      <td>0.000845</td>\n      <td>0.000907</td>\n      <td>0.009088</td>\n      <td>0.000265</td>\n      <td>0.000039</td>\n      <td>0.988855</td>\n    </tr>\n    <tr>\n      <th>1</th>\n      <td>0.000146</td>\n      <td>0.974852</td>\n      <td>0.000535</td>\n      <td>0.023784</td>\n      <td>0.000412</td>\n      <td>0.000271</td>\n    </tr>\n    <tr>\n      <th>2</th>\n      <td>0.001871</td>\n      <td>0.049660</td>\n      <td>0.161260</td>\n      <td>0.776072</td>\n      <td>0.009383</td>\n      <td>0.001755</td>\n    </tr>\n    <tr>\n      <th>3</th>\n      <td>0.000315</td>\n      <td>0.000456</td>\n      <td>0.002324</td>\n      <td>0.000559</td>\n      <td>0.996154</td>\n      <td>0.000190</td>\n    </tr>\n    <tr>\n      <th>4</th>\n      <td>0.000173</td>\n      <td>0.998289</td>\n      <td>0.000085</td>\n      <td>0.001199</td>\n      <td>0.000091</td>\n      <td>0.000164</td>\n    </tr>\n    <tr>\n      <th>5</th>\n      <td>0.000297</td>\n      <td>0.000451</td>\n      <td>0.000802</td>\n      <td>0.000782</td>\n      <td>0.997490</td>\n      <td>0.000178</td>\n    </tr>\n  </tbody>\n</table>\n</div>"
          },
          "metadata": {}
        }
      ]
    },
    {
      "cell_type": "code",
      "source": [
        "dataframe.columns = ['0', '1', '2','3','4','5']"
      ],
      "metadata": {
        "execution": {
          "iopub.status.busy": "2023-09-26T17:08:31.861675Z",
          "iopub.execute_input": "2023-09-26T17:08:31.862139Z",
          "iopub.status.idle": "2023-09-26T17:08:31.870278Z",
          "shell.execute_reply.started": "2023-09-26T17:08:31.862088Z",
          "shell.execute_reply": "2023-09-26T17:08:31.869219Z"
        },
        "trusted": true,
        "id": "QYUrl-bCX2ep"
      },
      "execution_count": null,
      "outputs": []
    },
    {
      "cell_type": "code",
      "source": [
        "#Dropping \"0\" column because of really small values that wont affect our data\n",
        "dataframe.drop('0',axis=1)"
      ],
      "metadata": {
        "execution": {
          "iopub.status.busy": "2023-09-26T17:08:31.873273Z",
          "iopub.execute_input": "2023-09-26T17:08:31.873594Z",
          "iopub.status.idle": "2023-09-26T17:08:31.897193Z",
          "shell.execute_reply.started": "2023-09-26T17:08:31.873570Z",
          "shell.execute_reply": "2023-09-26T17:08:31.896131Z"
        },
        "trusted": true,
        "id": "uVYrTlWsX2ep",
        "outputId": "93714891-eed2-4474-c5c2-80ae864b4665"
      },
      "execution_count": null,
      "outputs": [
        {
          "execution_count": 76,
          "output_type": "execute_result",
          "data": {
            "text/plain": "            1         2         3         4         5\n0    0.000907  0.009088  0.000265  0.000039  0.988855\n1    0.974852  0.000535  0.023784  0.000412  0.000271\n2    0.049660  0.161260  0.776072  0.009383  0.001755\n3    0.000456  0.002324  0.000559  0.996154  0.000190\n4    0.998289  0.000085  0.001199  0.000091  0.000164\n..        ...       ...       ...       ...       ...\n238  0.000259  0.997981  0.000187  0.000878  0.000500\n239  0.000487  0.002373  0.000551  0.996033  0.000188\n240  0.000157  0.996715  0.000202  0.001005  0.001677\n241  0.000312  0.977826  0.000973  0.003337  0.016825\n242  0.784064  0.000472  0.214017  0.000839  0.000218\n\n[243 rows x 5 columns]",
            "text/html": "<div>\n<style scoped>\n    .dataframe tbody tr th:only-of-type {\n        vertical-align: middle;\n    }\n\n    .dataframe tbody tr th {\n        vertical-align: top;\n    }\n\n    .dataframe thead th {\n        text-align: right;\n    }\n</style>\n<table border=\"1\" class=\"dataframe\">\n  <thead>\n    <tr style=\"text-align: right;\">\n      <th></th>\n      <th>1</th>\n      <th>2</th>\n      <th>3</th>\n      <th>4</th>\n      <th>5</th>\n    </tr>\n  </thead>\n  <tbody>\n    <tr>\n      <th>0</th>\n      <td>0.000907</td>\n      <td>0.009088</td>\n      <td>0.000265</td>\n      <td>0.000039</td>\n      <td>0.988855</td>\n    </tr>\n    <tr>\n      <th>1</th>\n      <td>0.974852</td>\n      <td>0.000535</td>\n      <td>0.023784</td>\n      <td>0.000412</td>\n      <td>0.000271</td>\n    </tr>\n    <tr>\n      <th>2</th>\n      <td>0.049660</td>\n      <td>0.161260</td>\n      <td>0.776072</td>\n      <td>0.009383</td>\n      <td>0.001755</td>\n    </tr>\n    <tr>\n      <th>3</th>\n      <td>0.000456</td>\n      <td>0.002324</td>\n      <td>0.000559</td>\n      <td>0.996154</td>\n      <td>0.000190</td>\n    </tr>\n    <tr>\n      <th>4</th>\n      <td>0.998289</td>\n      <td>0.000085</td>\n      <td>0.001199</td>\n      <td>0.000091</td>\n      <td>0.000164</td>\n    </tr>\n    <tr>\n      <th>...</th>\n      <td>...</td>\n      <td>...</td>\n      <td>...</td>\n      <td>...</td>\n      <td>...</td>\n    </tr>\n    <tr>\n      <th>238</th>\n      <td>0.000259</td>\n      <td>0.997981</td>\n      <td>0.000187</td>\n      <td>0.000878</td>\n      <td>0.000500</td>\n    </tr>\n    <tr>\n      <th>239</th>\n      <td>0.000487</td>\n      <td>0.002373</td>\n      <td>0.000551</td>\n      <td>0.996033</td>\n      <td>0.000188</td>\n    </tr>\n    <tr>\n      <th>240</th>\n      <td>0.000157</td>\n      <td>0.996715</td>\n      <td>0.000202</td>\n      <td>0.001005</td>\n      <td>0.001677</td>\n    </tr>\n    <tr>\n      <th>241</th>\n      <td>0.000312</td>\n      <td>0.977826</td>\n      <td>0.000973</td>\n      <td>0.003337</td>\n      <td>0.016825</td>\n    </tr>\n    <tr>\n      <th>242</th>\n      <td>0.784064</td>\n      <td>0.000472</td>\n      <td>0.214017</td>\n      <td>0.000839</td>\n      <td>0.000218</td>\n    </tr>\n  </tbody>\n</table>\n<p>243 rows × 5 columns</p>\n</div>"
          },
          "metadata": {}
        }
      ]
    },
    {
      "cell_type": "code",
      "source": [
        "def get_max_column(row):\n",
        "    return row.idxmax()\n"
      ],
      "metadata": {
        "execution": {
          "iopub.status.busy": "2023-09-26T17:08:31.904903Z",
          "iopub.execute_input": "2023-09-26T17:08:31.905164Z",
          "iopub.status.idle": "2023-09-26T17:08:31.911888Z",
          "shell.execute_reply.started": "2023-09-26T17:08:31.905141Z",
          "shell.execute_reply": "2023-09-26T17:08:31.910978Z"
        },
        "trusted": true,
        "id": "UaM8I1pcX2ep"
      },
      "execution_count": null,
      "outputs": []
    },
    {
      "cell_type": "code",
      "source": [
        "#Adding a max_column column to the dataframe that stores which column has the highest value for each corresponding row\n",
        "dataframe['max_column'] = dataframe.apply(get_max_column, axis=1)\n",
        "dataframe"
      ],
      "metadata": {
        "execution": {
          "iopub.status.busy": "2023-09-26T17:08:31.915520Z",
          "iopub.execute_input": "2023-09-26T17:08:31.915815Z",
          "iopub.status.idle": "2023-09-26T17:08:31.953408Z",
          "shell.execute_reply.started": "2023-09-26T17:08:31.915785Z",
          "shell.execute_reply": "2023-09-26T17:08:31.952280Z"
        },
        "trusted": true,
        "id": "kOOURuf6X2ep",
        "outputId": "2ba7d041-26c5-4ac3-9d29-be2f5b31175a"
      },
      "execution_count": null,
      "outputs": [
        {
          "execution_count": 78,
          "output_type": "execute_result",
          "data": {
            "text/plain": "            0         1         2         3         4         5 max_column\n0    0.000845  0.000907  0.009088  0.000265  0.000039  0.988855          5\n1    0.000146  0.974852  0.000535  0.023784  0.000412  0.000271          1\n2    0.001871  0.049660  0.161260  0.776072  0.009383  0.001755          3\n3    0.000315  0.000456  0.002324  0.000559  0.996154  0.000190          4\n4    0.000173  0.998289  0.000085  0.001199  0.000091  0.000164          1\n..        ...       ...       ...       ...       ...       ...        ...\n238  0.000194  0.000259  0.997981  0.000187  0.000878  0.000500          2\n239  0.000368  0.000487  0.002373  0.000551  0.996033  0.000188          4\n240  0.000245  0.000157  0.996715  0.000202  0.001005  0.001677          2\n241  0.000728  0.000312  0.977826  0.000973  0.003337  0.016825          2\n242  0.000390  0.784064  0.000472  0.214017  0.000839  0.000218          1\n\n[243 rows x 7 columns]",
            "text/html": "<div>\n<style scoped>\n    .dataframe tbody tr th:only-of-type {\n        vertical-align: middle;\n    }\n\n    .dataframe tbody tr th {\n        vertical-align: top;\n    }\n\n    .dataframe thead th {\n        text-align: right;\n    }\n</style>\n<table border=\"1\" class=\"dataframe\">\n  <thead>\n    <tr style=\"text-align: right;\">\n      <th></th>\n      <th>0</th>\n      <th>1</th>\n      <th>2</th>\n      <th>3</th>\n      <th>4</th>\n      <th>5</th>\n      <th>max_column</th>\n    </tr>\n  </thead>\n  <tbody>\n    <tr>\n      <th>0</th>\n      <td>0.000845</td>\n      <td>0.000907</td>\n      <td>0.009088</td>\n      <td>0.000265</td>\n      <td>0.000039</td>\n      <td>0.988855</td>\n      <td>5</td>\n    </tr>\n    <tr>\n      <th>1</th>\n      <td>0.000146</td>\n      <td>0.974852</td>\n      <td>0.000535</td>\n      <td>0.023784</td>\n      <td>0.000412</td>\n      <td>0.000271</td>\n      <td>1</td>\n    </tr>\n    <tr>\n      <th>2</th>\n      <td>0.001871</td>\n      <td>0.049660</td>\n      <td>0.161260</td>\n      <td>0.776072</td>\n      <td>0.009383</td>\n      <td>0.001755</td>\n      <td>3</td>\n    </tr>\n    <tr>\n      <th>3</th>\n      <td>0.000315</td>\n      <td>0.000456</td>\n      <td>0.002324</td>\n      <td>0.000559</td>\n      <td>0.996154</td>\n      <td>0.000190</td>\n      <td>4</td>\n    </tr>\n    <tr>\n      <th>4</th>\n      <td>0.000173</td>\n      <td>0.998289</td>\n      <td>0.000085</td>\n      <td>0.001199</td>\n      <td>0.000091</td>\n      <td>0.000164</td>\n      <td>1</td>\n    </tr>\n    <tr>\n      <th>...</th>\n      <td>...</td>\n      <td>...</td>\n      <td>...</td>\n      <td>...</td>\n      <td>...</td>\n      <td>...</td>\n      <td>...</td>\n    </tr>\n    <tr>\n      <th>238</th>\n      <td>0.000194</td>\n      <td>0.000259</td>\n      <td>0.997981</td>\n      <td>0.000187</td>\n      <td>0.000878</td>\n      <td>0.000500</td>\n      <td>2</td>\n    </tr>\n    <tr>\n      <th>239</th>\n      <td>0.000368</td>\n      <td>0.000487</td>\n      <td>0.002373</td>\n      <td>0.000551</td>\n      <td>0.996033</td>\n      <td>0.000188</td>\n      <td>4</td>\n    </tr>\n    <tr>\n      <th>240</th>\n      <td>0.000245</td>\n      <td>0.000157</td>\n      <td>0.996715</td>\n      <td>0.000202</td>\n      <td>0.001005</td>\n      <td>0.001677</td>\n      <td>2</td>\n    </tr>\n    <tr>\n      <th>241</th>\n      <td>0.000728</td>\n      <td>0.000312</td>\n      <td>0.977826</td>\n      <td>0.000973</td>\n      <td>0.003337</td>\n      <td>0.016825</td>\n      <td>2</td>\n    </tr>\n    <tr>\n      <th>242</th>\n      <td>0.000390</td>\n      <td>0.784064</td>\n      <td>0.000472</td>\n      <td>0.214017</td>\n      <td>0.000839</td>\n      <td>0.000218</td>\n      <td>1</td>\n    </tr>\n  </tbody>\n</table>\n<p>243 rows × 7 columns</p>\n</div>"
          },
          "metadata": {}
        }
      ]
    },
    {
      "cell_type": "code",
      "source": [
        "#Dropping every column other than max_column to get the most probable prediction made by the model\n",
        "dataframe = dataframe.drop(dataframe.columns[dataframe.columns != 'max_column'], axis=1)\n",
        "dataframe"
      ],
      "metadata": {
        "execution": {
          "iopub.status.busy": "2023-09-26T17:08:31.954973Z",
          "iopub.execute_input": "2023-09-26T17:08:31.955841Z",
          "iopub.status.idle": "2023-09-26T17:08:31.967784Z",
          "shell.execute_reply.started": "2023-09-26T17:08:31.955814Z",
          "shell.execute_reply": "2023-09-26T17:08:31.966714Z"
        },
        "trusted": true,
        "id": "iWyobdzAX2ep",
        "outputId": "de78eb75-aaf1-4e7b-d429-40153ddf79f8"
      },
      "execution_count": null,
      "outputs": [
        {
          "execution_count": 79,
          "output_type": "execute_result",
          "data": {
            "text/plain": "    max_column\n0            5\n1            1\n2            3\n3            4\n4            1\n..         ...\n238          2\n239          4\n240          2\n241          2\n242          1\n\n[243 rows x 1 columns]",
            "text/html": "<div>\n<style scoped>\n    .dataframe tbody tr th:only-of-type {\n        vertical-align: middle;\n    }\n\n    .dataframe tbody tr th {\n        vertical-align: top;\n    }\n\n    .dataframe thead th {\n        text-align: right;\n    }\n</style>\n<table border=\"1\" class=\"dataframe\">\n  <thead>\n    <tr style=\"text-align: right;\">\n      <th></th>\n      <th>max_column</th>\n    </tr>\n  </thead>\n  <tbody>\n    <tr>\n      <th>0</th>\n      <td>5</td>\n    </tr>\n    <tr>\n      <th>1</th>\n      <td>1</td>\n    </tr>\n    <tr>\n      <th>2</th>\n      <td>3</td>\n    </tr>\n    <tr>\n      <th>3</th>\n      <td>4</td>\n    </tr>\n    <tr>\n      <th>4</th>\n      <td>1</td>\n    </tr>\n    <tr>\n      <th>...</th>\n      <td>...</td>\n    </tr>\n    <tr>\n      <th>238</th>\n      <td>2</td>\n    </tr>\n    <tr>\n      <th>239</th>\n      <td>4</td>\n    </tr>\n    <tr>\n      <th>240</th>\n      <td>2</td>\n    </tr>\n    <tr>\n      <th>241</th>\n      <td>2</td>\n    </tr>\n    <tr>\n      <th>242</th>\n      <td>1</td>\n    </tr>\n  </tbody>\n</table>\n<p>243 rows × 1 columns</p>\n</div>"
          },
          "metadata": {}
        }
      ]
    },
    {
      "cell_type": "code",
      "source": [
        "text_col=df2[\"Text\"]\n",
        "text_col"
      ],
      "metadata": {
        "execution": {
          "iopub.status.busy": "2023-09-26T17:08:31.969178Z",
          "iopub.execute_input": "2023-09-26T17:08:31.970216Z",
          "iopub.status.idle": "2023-09-26T17:08:31.983803Z",
          "shell.execute_reply.started": "2023-09-26T17:08:31.970180Z",
          "shell.execute_reply": "2023-09-26T17:08:31.982758Z"
        },
        "trusted": true,
        "id": "cSvybU2MX2eq",
        "outputId": "f319ad23-821d-47ca-d12a-f09d1e6c89a6"
      },
      "execution_count": null,
      "outputs": [
        {
          "execution_count": 80,
          "output_type": "execute_result",
          "data": {
            "text/plain": "0      I'm worried about the impact of panic on my re...\n1      Trying to maintain my equilibrium when emotion...\n2      Feeling like I'm in a constant struggle to fin...\n3      I'm quick to dismiss others' opinions as less ...\n4      I hate the person I become when I'm consumed b...\n                             ...                        \n238    The pressure to avoid mistakes can keep me fro...\n239    Even when challenges arise, I remain unwaverin...\n240    It's like my mind is a radio tuned to the freq...\n241    It's hard to explain the surge of panic that c...\n242    It's hard to explain the inner conflict of man...\nName: Text, Length: 243, dtype: object"
          },
          "metadata": {}
        }
      ]
    },
    {
      "cell_type": "code",
      "source": [
        "dataframe.insert(0, 'id', range(len(dataframe)))"
      ],
      "metadata": {
        "execution": {
          "iopub.status.busy": "2023-09-26T17:08:31.986115Z",
          "iopub.execute_input": "2023-09-26T17:08:31.986823Z",
          "iopub.status.idle": "2023-09-26T17:08:31.993747Z",
          "shell.execute_reply.started": "2023-09-26T17:08:31.986792Z",
          "shell.execute_reply": "2023-09-26T17:08:31.992706Z"
        },
        "trusted": true,
        "id": "8EGef3AmX2eq"
      },
      "execution_count": null,
      "outputs": []
    },
    {
      "cell_type": "code",
      "source": [
        "dataframe"
      ],
      "metadata": {
        "execution": {
          "iopub.status.busy": "2023-09-26T17:08:31.996427Z",
          "iopub.execute_input": "2023-09-26T17:08:31.996681Z",
          "iopub.status.idle": "2023-09-26T17:08:32.012802Z",
          "shell.execute_reply.started": "2023-09-26T17:08:31.996659Z",
          "shell.execute_reply": "2023-09-26T17:08:32.011876Z"
        },
        "trusted": true,
        "id": "VZ12J0CYX2eq",
        "outputId": "abee8e89-5b8a-4a5d-b1b6-c12f17b8babd"
      },
      "execution_count": null,
      "outputs": [
        {
          "execution_count": 82,
          "output_type": "execute_result",
          "data": {
            "text/plain": "      id max_column\n0      0          5\n1      1          1\n2      2          3\n3      3          4\n4      4          1\n..   ...        ...\n238  238          2\n239  239          4\n240  240          2\n241  241          2\n242  242          1\n\n[243 rows x 2 columns]",
            "text/html": "<div>\n<style scoped>\n    .dataframe tbody tr th:only-of-type {\n        vertical-align: middle;\n    }\n\n    .dataframe tbody tr th {\n        vertical-align: top;\n    }\n\n    .dataframe thead th {\n        text-align: right;\n    }\n</style>\n<table border=\"1\" class=\"dataframe\">\n  <thead>\n    <tr style=\"text-align: right;\">\n      <th></th>\n      <th>id</th>\n      <th>max_column</th>\n    </tr>\n  </thead>\n  <tbody>\n    <tr>\n      <th>0</th>\n      <td>0</td>\n      <td>5</td>\n    </tr>\n    <tr>\n      <th>1</th>\n      <td>1</td>\n      <td>1</td>\n    </tr>\n    <tr>\n      <th>2</th>\n      <td>2</td>\n      <td>3</td>\n    </tr>\n    <tr>\n      <th>3</th>\n      <td>3</td>\n      <td>4</td>\n    </tr>\n    <tr>\n      <th>4</th>\n      <td>4</td>\n      <td>1</td>\n    </tr>\n    <tr>\n      <th>...</th>\n      <td>...</td>\n      <td>...</td>\n    </tr>\n    <tr>\n      <th>238</th>\n      <td>238</td>\n      <td>2</td>\n    </tr>\n    <tr>\n      <th>239</th>\n      <td>239</td>\n      <td>4</td>\n    </tr>\n    <tr>\n      <th>240</th>\n      <td>240</td>\n      <td>2</td>\n    </tr>\n    <tr>\n      <th>241</th>\n      <td>241</td>\n      <td>2</td>\n    </tr>\n    <tr>\n      <th>242</th>\n      <td>242</td>\n      <td>1</td>\n    </tr>\n  </tbody>\n</table>\n<p>243 rows × 2 columns</p>\n</div>"
          },
          "metadata": {}
        }
      ]
    },
    {
      "cell_type": "code",
      "source": [
        "#again doing labelEncoder() manually by replacing integer keys with their actual labels\n",
        "legend = {\n",
        "    '1': 'Anger/ Intermittent Explosive Disorder',\n",
        "    '2': 'Anxiety Disorder',\n",
        "    '3': 'Depression',\n",
        "    '4': 'Narcissistic Disorder',\n",
        "    '5': 'Panic Disorder',\n",
        "}\n",
        "\n",
        "dataframe['max_column'].replace(legend, inplace=True)"
      ],
      "metadata": {
        "execution": {
          "iopub.status.busy": "2023-09-26T17:08:32.015342Z",
          "iopub.execute_input": "2023-09-26T17:08:32.015951Z",
          "iopub.status.idle": "2023-09-26T17:08:32.023491Z",
          "shell.execute_reply.started": "2023-09-26T17:08:32.015919Z",
          "shell.execute_reply": "2023-09-26T17:08:32.022484Z"
        },
        "trusted": true,
        "id": "XHPmhbcNX2er"
      },
      "execution_count": null,
      "outputs": []
    },
    {
      "cell_type": "code",
      "source": [
        "dataframe"
      ],
      "metadata": {
        "execution": {
          "iopub.status.busy": "2023-09-26T17:08:32.025014Z",
          "iopub.execute_input": "2023-09-26T17:08:32.025348Z",
          "iopub.status.idle": "2023-09-26T17:08:32.040334Z",
          "shell.execute_reply.started": "2023-09-26T17:08:32.025319Z",
          "shell.execute_reply": "2023-09-26T17:08:32.039256Z"
        },
        "trusted": true,
        "id": "6iuCOYkbX2er",
        "outputId": "72d29c33-b0e3-474d-e156-c83988b7f20c"
      },
      "execution_count": null,
      "outputs": [
        {
          "execution_count": 84,
          "output_type": "execute_result",
          "data": {
            "text/plain": "      id                              max_column\n0      0                          Panic Disorder\n1      1  Anger/ Intermittent Explosive Disorder\n2      2                              Depression\n3      3                   Narcissistic Disorder\n4      4  Anger/ Intermittent Explosive Disorder\n..   ...                                     ...\n238  238                        Anxiety Disorder\n239  239                   Narcissistic Disorder\n240  240                        Anxiety Disorder\n241  241                        Anxiety Disorder\n242  242  Anger/ Intermittent Explosive Disorder\n\n[243 rows x 2 columns]",
            "text/html": "<div>\n<style scoped>\n    .dataframe tbody tr th:only-of-type {\n        vertical-align: middle;\n    }\n\n    .dataframe tbody tr th {\n        vertical-align: top;\n    }\n\n    .dataframe thead th {\n        text-align: right;\n    }\n</style>\n<table border=\"1\" class=\"dataframe\">\n  <thead>\n    <tr style=\"text-align: right;\">\n      <th></th>\n      <th>id</th>\n      <th>max_column</th>\n    </tr>\n  </thead>\n  <tbody>\n    <tr>\n      <th>0</th>\n      <td>0</td>\n      <td>Panic Disorder</td>\n    </tr>\n    <tr>\n      <th>1</th>\n      <td>1</td>\n      <td>Anger/ Intermittent Explosive Disorder</td>\n    </tr>\n    <tr>\n      <th>2</th>\n      <td>2</td>\n      <td>Depression</td>\n    </tr>\n    <tr>\n      <th>3</th>\n      <td>3</td>\n      <td>Narcissistic Disorder</td>\n    </tr>\n    <tr>\n      <th>4</th>\n      <td>4</td>\n      <td>Anger/ Intermittent Explosive Disorder</td>\n    </tr>\n    <tr>\n      <th>...</th>\n      <td>...</td>\n      <td>...</td>\n    </tr>\n    <tr>\n      <th>238</th>\n      <td>238</td>\n      <td>Anxiety Disorder</td>\n    </tr>\n    <tr>\n      <th>239</th>\n      <td>239</td>\n      <td>Narcissistic Disorder</td>\n    </tr>\n    <tr>\n      <th>240</th>\n      <td>240</td>\n      <td>Anxiety Disorder</td>\n    </tr>\n    <tr>\n      <th>241</th>\n      <td>241</td>\n      <td>Anxiety Disorder</td>\n    </tr>\n    <tr>\n      <th>242</th>\n      <td>242</td>\n      <td>Anger/ Intermittent Explosive Disorder</td>\n    </tr>\n  </tbody>\n</table>\n<p>243 rows × 2 columns</p>\n</div>"
          },
          "metadata": {}
        }
      ]
    },
    {
      "cell_type": "code",
      "source": [
        "#Adding the Text column for manual verification purposes\n",
        "dataframe.insert(1, 'Text', text_col)\n",
        "dataframe"
      ],
      "metadata": {
        "execution": {
          "iopub.status.busy": "2023-09-26T17:08:32.042049Z",
          "iopub.execute_input": "2023-09-26T17:08:32.042801Z",
          "iopub.status.idle": "2023-09-26T17:08:32.058709Z",
          "shell.execute_reply.started": "2023-09-26T17:08:32.042770Z",
          "shell.execute_reply": "2023-09-26T17:08:32.057687Z"
        },
        "trusted": true,
        "id": "0MRn-Pi5X2er",
        "outputId": "59f7eeeb-775d-40aa-86cb-343cbca48fbf"
      },
      "execution_count": null,
      "outputs": [
        {
          "execution_count": 85,
          "output_type": "execute_result",
          "data": {
            "text/plain": "      id                                               Text  \\\n0      0  I'm worried about the impact of panic on my re...   \n1      1  Trying to maintain my equilibrium when emotion...   \n2      2  Feeling like I'm in a constant struggle to fin...   \n3      3  I'm quick to dismiss others' opinions as less ...   \n4      4  I hate the person I become when I'm consumed b...   \n..   ...                                                ...   \n238  238  The pressure to avoid mistakes can keep me fro...   \n239  239  Even when challenges arise, I remain unwaverin...   \n240  240  It's like my mind is a radio tuned to the freq...   \n241  241  It's hard to explain the surge of panic that c...   \n242  242  It's hard to explain the inner conflict of man...   \n\n                                 max_column  \n0                            Panic Disorder  \n1    Anger/ Intermittent Explosive Disorder  \n2                                Depression  \n3                     Narcissistic Disorder  \n4    Anger/ Intermittent Explosive Disorder  \n..                                      ...  \n238                        Anxiety Disorder  \n239                   Narcissistic Disorder  \n240                        Anxiety Disorder  \n241                        Anxiety Disorder  \n242  Anger/ Intermittent Explosive Disorder  \n\n[243 rows x 3 columns]",
            "text/html": "<div>\n<style scoped>\n    .dataframe tbody tr th:only-of-type {\n        vertical-align: middle;\n    }\n\n    .dataframe tbody tr th {\n        vertical-align: top;\n    }\n\n    .dataframe thead th {\n        text-align: right;\n    }\n</style>\n<table border=\"1\" class=\"dataframe\">\n  <thead>\n    <tr style=\"text-align: right;\">\n      <th></th>\n      <th>id</th>\n      <th>Text</th>\n      <th>max_column</th>\n    </tr>\n  </thead>\n  <tbody>\n    <tr>\n      <th>0</th>\n      <td>0</td>\n      <td>I'm worried about the impact of panic on my re...</td>\n      <td>Panic Disorder</td>\n    </tr>\n    <tr>\n      <th>1</th>\n      <td>1</td>\n      <td>Trying to maintain my equilibrium when emotion...</td>\n      <td>Anger/ Intermittent Explosive Disorder</td>\n    </tr>\n    <tr>\n      <th>2</th>\n      <td>2</td>\n      <td>Feeling like I'm in a constant struggle to fin...</td>\n      <td>Depression</td>\n    </tr>\n    <tr>\n      <th>3</th>\n      <td>3</td>\n      <td>I'm quick to dismiss others' opinions as less ...</td>\n      <td>Narcissistic Disorder</td>\n    </tr>\n    <tr>\n      <th>4</th>\n      <td>4</td>\n      <td>I hate the person I become when I'm consumed b...</td>\n      <td>Anger/ Intermittent Explosive Disorder</td>\n    </tr>\n    <tr>\n      <th>...</th>\n      <td>...</td>\n      <td>...</td>\n      <td>...</td>\n    </tr>\n    <tr>\n      <th>238</th>\n      <td>238</td>\n      <td>The pressure to avoid mistakes can keep me fro...</td>\n      <td>Anxiety Disorder</td>\n    </tr>\n    <tr>\n      <th>239</th>\n      <td>239</td>\n      <td>Even when challenges arise, I remain unwaverin...</td>\n      <td>Narcissistic Disorder</td>\n    </tr>\n    <tr>\n      <th>240</th>\n      <td>240</td>\n      <td>It's like my mind is a radio tuned to the freq...</td>\n      <td>Anxiety Disorder</td>\n    </tr>\n    <tr>\n      <th>241</th>\n      <td>241</td>\n      <td>It's hard to explain the surge of panic that c...</td>\n      <td>Anxiety Disorder</td>\n    </tr>\n    <tr>\n      <th>242</th>\n      <td>242</td>\n      <td>It's hard to explain the inner conflict of man...</td>\n      <td>Anger/ Intermittent Explosive Disorder</td>\n    </tr>\n  </tbody>\n</table>\n<p>243 rows × 3 columns</p>\n</div>"
          },
          "metadata": {}
        }
      ]
    },
    {
      "cell_type": "code",
      "source": [
        "dataframe.rename(columns={'max_column': 'label'}, inplace=True)"
      ],
      "metadata": {
        "execution": {
          "iopub.status.busy": "2023-09-26T17:08:32.059983Z",
          "iopub.execute_input": "2023-09-26T17:08:32.062598Z",
          "iopub.status.idle": "2023-09-26T17:08:32.068451Z",
          "shell.execute_reply.started": "2023-09-26T17:08:32.062538Z",
          "shell.execute_reply": "2023-09-26T17:08:32.067528Z"
        },
        "trusted": true,
        "id": "UHfuXZqxX2er"
      },
      "execution_count": null,
      "outputs": []
    },
    {
      "cell_type": "code",
      "source": [
        "dataframe"
      ],
      "metadata": {
        "execution": {
          "iopub.status.busy": "2023-09-26T17:08:32.070037Z",
          "iopub.execute_input": "2023-09-26T17:08:32.070540Z",
          "iopub.status.idle": "2023-09-26T17:08:32.088282Z",
          "shell.execute_reply.started": "2023-09-26T17:08:32.070505Z",
          "shell.execute_reply": "2023-09-26T17:08:32.087309Z"
        },
        "trusted": true,
        "id": "5nTR_A1-X2er",
        "outputId": "20e6d310-f3b3-473e-bc2b-19ddf21d2712"
      },
      "execution_count": null,
      "outputs": [
        {
          "execution_count": 87,
          "output_type": "execute_result",
          "data": {
            "text/plain": "      id                                               Text  \\\n0      0  I'm worried about the impact of panic on my re...   \n1      1  Trying to maintain my equilibrium when emotion...   \n2      2  Feeling like I'm in a constant struggle to fin...   \n3      3  I'm quick to dismiss others' opinions as less ...   \n4      4  I hate the person I become when I'm consumed b...   \n..   ...                                                ...   \n238  238  The pressure to avoid mistakes can keep me fro...   \n239  239  Even when challenges arise, I remain unwaverin...   \n240  240  It's like my mind is a radio tuned to the freq...   \n241  241  It's hard to explain the surge of panic that c...   \n242  242  It's hard to explain the inner conflict of man...   \n\n                                      label  \n0                            Panic Disorder  \n1    Anger/ Intermittent Explosive Disorder  \n2                                Depression  \n3                     Narcissistic Disorder  \n4    Anger/ Intermittent Explosive Disorder  \n..                                      ...  \n238                        Anxiety Disorder  \n239                   Narcissistic Disorder  \n240                        Anxiety Disorder  \n241                        Anxiety Disorder  \n242  Anger/ Intermittent Explosive Disorder  \n\n[243 rows x 3 columns]",
            "text/html": "<div>\n<style scoped>\n    .dataframe tbody tr th:only-of-type {\n        vertical-align: middle;\n    }\n\n    .dataframe tbody tr th {\n        vertical-align: top;\n    }\n\n    .dataframe thead th {\n        text-align: right;\n    }\n</style>\n<table border=\"1\" class=\"dataframe\">\n  <thead>\n    <tr style=\"text-align: right;\">\n      <th></th>\n      <th>id</th>\n      <th>Text</th>\n      <th>label</th>\n    </tr>\n  </thead>\n  <tbody>\n    <tr>\n      <th>0</th>\n      <td>0</td>\n      <td>I'm worried about the impact of panic on my re...</td>\n      <td>Panic Disorder</td>\n    </tr>\n    <tr>\n      <th>1</th>\n      <td>1</td>\n      <td>Trying to maintain my equilibrium when emotion...</td>\n      <td>Anger/ Intermittent Explosive Disorder</td>\n    </tr>\n    <tr>\n      <th>2</th>\n      <td>2</td>\n      <td>Feeling like I'm in a constant struggle to fin...</td>\n      <td>Depression</td>\n    </tr>\n    <tr>\n      <th>3</th>\n      <td>3</td>\n      <td>I'm quick to dismiss others' opinions as less ...</td>\n      <td>Narcissistic Disorder</td>\n    </tr>\n    <tr>\n      <th>4</th>\n      <td>4</td>\n      <td>I hate the person I become when I'm consumed b...</td>\n      <td>Anger/ Intermittent Explosive Disorder</td>\n    </tr>\n    <tr>\n      <th>...</th>\n      <td>...</td>\n      <td>...</td>\n      <td>...</td>\n    </tr>\n    <tr>\n      <th>238</th>\n      <td>238</td>\n      <td>The pressure to avoid mistakes can keep me fro...</td>\n      <td>Anxiety Disorder</td>\n    </tr>\n    <tr>\n      <th>239</th>\n      <td>239</td>\n      <td>Even when challenges arise, I remain unwaverin...</td>\n      <td>Narcissistic Disorder</td>\n    </tr>\n    <tr>\n      <th>240</th>\n      <td>240</td>\n      <td>It's like my mind is a radio tuned to the freq...</td>\n      <td>Anxiety Disorder</td>\n    </tr>\n    <tr>\n      <th>241</th>\n      <td>241</td>\n      <td>It's hard to explain the surge of panic that c...</td>\n      <td>Anxiety Disorder</td>\n    </tr>\n    <tr>\n      <th>242</th>\n      <td>242</td>\n      <td>It's hard to explain the inner conflict of man...</td>\n      <td>Anger/ Intermittent Explosive Disorder</td>\n    </tr>\n  </tbody>\n</table>\n<p>243 rows × 3 columns</p>\n</div>"
          },
          "metadata": {}
        }
      ]
    },
    {
      "cell_type": "code",
      "source": [
        "dataframe.groupby('label').describe()"
      ],
      "metadata": {
        "execution": {
          "iopub.status.busy": "2023-09-26T17:08:32.089634Z",
          "iopub.execute_input": "2023-09-26T17:08:32.090007Z",
          "iopub.status.idle": "2023-09-26T17:08:32.126022Z",
          "shell.execute_reply.started": "2023-09-26T17:08:32.089974Z",
          "shell.execute_reply": "2023-09-26T17:08:32.125074Z"
        },
        "trusted": true,
        "id": "btULdakeX2er",
        "outputId": "80c29afe-971b-4f7a-817e-bcb50b17bd3a"
      },
      "execution_count": null,
      "outputs": [
        {
          "execution_count": 88,
          "output_type": "execute_result",
          "data": {
            "text/plain": "                                          id                               \\\n                                       count        mean        std   min   \nlabel                                                                       \nAnger/ Intermittent Explosive Disorder  46.0  118.065217  73.654570   1.0   \nAnxiety Disorder                        61.0  135.803279  60.248878  11.0   \nDepression                              49.0  119.224490  69.643217   2.0   \nNarcissistic Disorder                   47.0  112.361702  73.798912   3.0   \nPanic Disorder                          40.0  114.125000  76.986242   0.0   \n\n                                                                     \n                                          25%    50%     75%    max  \nlabel                                                                \nAnger/ Intermittent Explosive Disorder  43.75  124.5  178.25  242.0  \nAnxiety Disorder                        92.00  137.0  177.00  241.0  \nDepression                              61.00  117.0  181.00  227.0  \nNarcissistic Disorder                   53.50  102.0  186.00  239.0  \nPanic Disorder                          45.75   96.5  188.50  237.0  ",
            "text/html": "<div>\n<style scoped>\n    .dataframe tbody tr th:only-of-type {\n        vertical-align: middle;\n    }\n\n    .dataframe tbody tr th {\n        vertical-align: top;\n    }\n\n    .dataframe thead tr th {\n        text-align: left;\n    }\n\n    .dataframe thead tr:last-of-type th {\n        text-align: right;\n    }\n</style>\n<table border=\"1\" class=\"dataframe\">\n  <thead>\n    <tr>\n      <th></th>\n      <th colspan=\"8\" halign=\"left\">id</th>\n    </tr>\n    <tr>\n      <th></th>\n      <th>count</th>\n      <th>mean</th>\n      <th>std</th>\n      <th>min</th>\n      <th>25%</th>\n      <th>50%</th>\n      <th>75%</th>\n      <th>max</th>\n    </tr>\n    <tr>\n      <th>label</th>\n      <th></th>\n      <th></th>\n      <th></th>\n      <th></th>\n      <th></th>\n      <th></th>\n      <th></th>\n      <th></th>\n    </tr>\n  </thead>\n  <tbody>\n    <tr>\n      <th>Anger/ Intermittent Explosive Disorder</th>\n      <td>46.0</td>\n      <td>118.065217</td>\n      <td>73.654570</td>\n      <td>1.0</td>\n      <td>43.75</td>\n      <td>124.5</td>\n      <td>178.25</td>\n      <td>242.0</td>\n    </tr>\n    <tr>\n      <th>Anxiety Disorder</th>\n      <td>61.0</td>\n      <td>135.803279</td>\n      <td>60.248878</td>\n      <td>11.0</td>\n      <td>92.00</td>\n      <td>137.0</td>\n      <td>177.00</td>\n      <td>241.0</td>\n    </tr>\n    <tr>\n      <th>Depression</th>\n      <td>49.0</td>\n      <td>119.224490</td>\n      <td>69.643217</td>\n      <td>2.0</td>\n      <td>61.00</td>\n      <td>117.0</td>\n      <td>181.00</td>\n      <td>227.0</td>\n    </tr>\n    <tr>\n      <th>Narcissistic Disorder</th>\n      <td>47.0</td>\n      <td>112.361702</td>\n      <td>73.798912</td>\n      <td>3.0</td>\n      <td>53.50</td>\n      <td>102.0</td>\n      <td>186.00</td>\n      <td>239.0</td>\n    </tr>\n    <tr>\n      <th>Panic Disorder</th>\n      <td>40.0</td>\n      <td>114.125000</td>\n      <td>76.986242</td>\n      <td>0.0</td>\n      <td>45.75</td>\n      <td>96.5</td>\n      <td>188.50</td>\n      <td>237.0</td>\n    </tr>\n  </tbody>\n</table>\n</div>"
          },
          "metadata": {}
        }
      ]
    },
    {
      "cell_type": "code",
      "source": [
        "#Deleting the Text column for submission purposes\n",
        "dataframe.drop(\"Text\",axis=1)"
      ],
      "metadata": {
        "execution": {
          "iopub.status.busy": "2023-09-26T17:08:32.127265Z",
          "iopub.execute_input": "2023-09-26T17:08:32.127930Z",
          "iopub.status.idle": "2023-09-26T17:08:32.139499Z",
          "shell.execute_reply.started": "2023-09-26T17:08:32.127898Z",
          "shell.execute_reply": "2023-09-26T17:08:32.138605Z"
        },
        "trusted": true,
        "id": "DQb9kYQgX2er",
        "outputId": "30b8e7fe-32bf-4041-f027-e07913c69e7c"
      },
      "execution_count": null,
      "outputs": [
        {
          "execution_count": 89,
          "output_type": "execute_result",
          "data": {
            "text/plain": "      id                                   label\n0      0                          Panic Disorder\n1      1  Anger/ Intermittent Explosive Disorder\n2      2                              Depression\n3      3                   Narcissistic Disorder\n4      4  Anger/ Intermittent Explosive Disorder\n..   ...                                     ...\n238  238                        Anxiety Disorder\n239  239                   Narcissistic Disorder\n240  240                        Anxiety Disorder\n241  241                        Anxiety Disorder\n242  242  Anger/ Intermittent Explosive Disorder\n\n[243 rows x 2 columns]",
            "text/html": "<div>\n<style scoped>\n    .dataframe tbody tr th:only-of-type {\n        vertical-align: middle;\n    }\n\n    .dataframe tbody tr th {\n        vertical-align: top;\n    }\n\n    .dataframe thead th {\n        text-align: right;\n    }\n</style>\n<table border=\"1\" class=\"dataframe\">\n  <thead>\n    <tr style=\"text-align: right;\">\n      <th></th>\n      <th>id</th>\n      <th>label</th>\n    </tr>\n  </thead>\n  <tbody>\n    <tr>\n      <th>0</th>\n      <td>0</td>\n      <td>Panic Disorder</td>\n    </tr>\n    <tr>\n      <th>1</th>\n      <td>1</td>\n      <td>Anger/ Intermittent Explosive Disorder</td>\n    </tr>\n    <tr>\n      <th>2</th>\n      <td>2</td>\n      <td>Depression</td>\n    </tr>\n    <tr>\n      <th>3</th>\n      <td>3</td>\n      <td>Narcissistic Disorder</td>\n    </tr>\n    <tr>\n      <th>4</th>\n      <td>4</td>\n      <td>Anger/ Intermittent Explosive Disorder</td>\n    </tr>\n    <tr>\n      <th>...</th>\n      <td>...</td>\n      <td>...</td>\n    </tr>\n    <tr>\n      <th>238</th>\n      <td>238</td>\n      <td>Anxiety Disorder</td>\n    </tr>\n    <tr>\n      <th>239</th>\n      <td>239</td>\n      <td>Narcissistic Disorder</td>\n    </tr>\n    <tr>\n      <th>240</th>\n      <td>240</td>\n      <td>Anxiety Disorder</td>\n    </tr>\n    <tr>\n      <th>241</th>\n      <td>241</td>\n      <td>Anxiety Disorder</td>\n    </tr>\n    <tr>\n      <th>242</th>\n      <td>242</td>\n      <td>Anger/ Intermittent Explosive Disorder</td>\n    </tr>\n  </tbody>\n</table>\n<p>243 rows × 2 columns</p>\n</div>"
          },
          "metadata": {}
        }
      ]
    },
    {
      "cell_type": "code",
      "source": [
        "dataframe"
      ],
      "metadata": {
        "execution": {
          "iopub.status.busy": "2023-09-26T17:08:32.140774Z",
          "iopub.execute_input": "2023-09-26T17:08:32.141510Z",
          "iopub.status.idle": "2023-09-26T17:08:32.158196Z",
          "shell.execute_reply.started": "2023-09-26T17:08:32.141478Z",
          "shell.execute_reply": "2023-09-26T17:08:32.157135Z"
        },
        "trusted": true,
        "id": "t-jOPdszX2er",
        "outputId": "6e9b9117-90ce-4425-d6f0-66fa985031d4"
      },
      "execution_count": null,
      "outputs": [
        {
          "execution_count": 90,
          "output_type": "execute_result",
          "data": {
            "text/plain": "      id                                               Text  \\\n0      0  I'm worried about the impact of panic on my re...   \n1      1  Trying to maintain my equilibrium when emotion...   \n2      2  Feeling like I'm in a constant struggle to fin...   \n3      3  I'm quick to dismiss others' opinions as less ...   \n4      4  I hate the person I become when I'm consumed b...   \n..   ...                                                ...   \n238  238  The pressure to avoid mistakes can keep me fro...   \n239  239  Even when challenges arise, I remain unwaverin...   \n240  240  It's like my mind is a radio tuned to the freq...   \n241  241  It's hard to explain the surge of panic that c...   \n242  242  It's hard to explain the inner conflict of man...   \n\n                                      label  \n0                            Panic Disorder  \n1    Anger/ Intermittent Explosive Disorder  \n2                                Depression  \n3                     Narcissistic Disorder  \n4    Anger/ Intermittent Explosive Disorder  \n..                                      ...  \n238                        Anxiety Disorder  \n239                   Narcissistic Disorder  \n240                        Anxiety Disorder  \n241                        Anxiety Disorder  \n242  Anger/ Intermittent Explosive Disorder  \n\n[243 rows x 3 columns]",
            "text/html": "<div>\n<style scoped>\n    .dataframe tbody tr th:only-of-type {\n        vertical-align: middle;\n    }\n\n    .dataframe tbody tr th {\n        vertical-align: top;\n    }\n\n    .dataframe thead th {\n        text-align: right;\n    }\n</style>\n<table border=\"1\" class=\"dataframe\">\n  <thead>\n    <tr style=\"text-align: right;\">\n      <th></th>\n      <th>id</th>\n      <th>Text</th>\n      <th>label</th>\n    </tr>\n  </thead>\n  <tbody>\n    <tr>\n      <th>0</th>\n      <td>0</td>\n      <td>I'm worried about the impact of panic on my re...</td>\n      <td>Panic Disorder</td>\n    </tr>\n    <tr>\n      <th>1</th>\n      <td>1</td>\n      <td>Trying to maintain my equilibrium when emotion...</td>\n      <td>Anger/ Intermittent Explosive Disorder</td>\n    </tr>\n    <tr>\n      <th>2</th>\n      <td>2</td>\n      <td>Feeling like I'm in a constant struggle to fin...</td>\n      <td>Depression</td>\n    </tr>\n    <tr>\n      <th>3</th>\n      <td>3</td>\n      <td>I'm quick to dismiss others' opinions as less ...</td>\n      <td>Narcissistic Disorder</td>\n    </tr>\n    <tr>\n      <th>4</th>\n      <td>4</td>\n      <td>I hate the person I become when I'm consumed b...</td>\n      <td>Anger/ Intermittent Explosive Disorder</td>\n    </tr>\n    <tr>\n      <th>...</th>\n      <td>...</td>\n      <td>...</td>\n      <td>...</td>\n    </tr>\n    <tr>\n      <th>238</th>\n      <td>238</td>\n      <td>The pressure to avoid mistakes can keep me fro...</td>\n      <td>Anxiety Disorder</td>\n    </tr>\n    <tr>\n      <th>239</th>\n      <td>239</td>\n      <td>Even when challenges arise, I remain unwaverin...</td>\n      <td>Narcissistic Disorder</td>\n    </tr>\n    <tr>\n      <th>240</th>\n      <td>240</td>\n      <td>It's like my mind is a radio tuned to the freq...</td>\n      <td>Anxiety Disorder</td>\n    </tr>\n    <tr>\n      <th>241</th>\n      <td>241</td>\n      <td>It's hard to explain the surge of panic that c...</td>\n      <td>Anxiety Disorder</td>\n    </tr>\n    <tr>\n      <th>242</th>\n      <td>242</td>\n      <td>It's hard to explain the inner conflict of man...</td>\n      <td>Anger/ Intermittent Explosive Disorder</td>\n    </tr>\n  </tbody>\n</table>\n<p>243 rows × 3 columns</p>\n</div>"
          },
          "metadata": {}
        }
      ]
    },
    {
      "cell_type": "code",
      "source": [
        "dataframe.to_csv('problemstatement1_test6.csv', sep=',', encoding='utf-8',index=False)"
      ],
      "metadata": {
        "execution": {
          "iopub.status.busy": "2023-09-26T17:08:32.159726Z",
          "iopub.execute_input": "2023-09-26T17:08:32.160248Z",
          "iopub.status.idle": "2023-09-26T17:08:32.172066Z",
          "shell.execute_reply.started": "2023-09-26T17:08:32.160217Z",
          "shell.execute_reply": "2023-09-26T17:08:32.171112Z"
        },
        "trusted": true,
        "id": "SVNeAEj9X2es"
      },
      "execution_count": null,
      "outputs": []
    },
    {
      "cell_type": "code",
      "source": [],
      "metadata": {
        "id": "5av00iq8X2es"
      },
      "execution_count": null,
      "outputs": []
    }
  ]
}